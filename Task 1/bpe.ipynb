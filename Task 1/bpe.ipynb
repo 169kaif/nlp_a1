{
 "cells": [
  {
   "cell_type": "code",
   "execution_count": 13,
   "metadata": {},
   "outputs": [],
   "source": [
    "\n",
    "\n",
    "import re\n"
   ]
  },
  {
   "cell_type": "code",
   "execution_count": 11,
   "metadata": {},
   "outputs": [],
   "source": [
    "import re, collections\n",
    "\n",
    "class Tokenizer:\n",
    "    def __init__(self):\n",
    "        self.vocab = {}\n",
    "        self.merge_rules = []\n",
    "\n",
    "    def get_stats(self):\n",
    "        pairs = collections.defaultdict(int)\n",
    "        for word, freq in self.vocab.items():\n",
    "            symbols = word.split()\n",
    "            for i in range(len(symbols)-1):\n",
    "                pairs[symbols[i],symbols[i+1]] += freq\n",
    "        return pairs\n",
    "\n",
    "    def merge_vocab(self, pair):\n",
    "        v_out = {}\n",
    "        bigram = re.escape(' '.join(pair))\n",
    "        p = re.compile(r'(?<!\\S)' + bigram + r'(?!\\S)')\n",
    "        for word in self.vocab:\n",
    "            w_out = p.sub(''.join(pair), word)\n",
    "            v_out[w_out] = self.vocab[word]\n",
    "        return v_out\n",
    "\n",
    "    def learn_vocablury(self, corpus, num_merges):\n",
    "        self.vocab = {(' '.join(word) + ' </w>'): freq for word, freq in collections.Counter(corpus).items()}\n",
    "        for i in range(num_merges):\n",
    "            pairs = self.get_stats()\n",
    "            best = max(pairs, key=pairs.get)\n",
    "            self.vocab = self.merge_vocab(best)\n",
    "            self.merge_rules.append(best)\n",
    "\n",
    "    def tokenize(self, sample):\n",
    "        return sample.split()\n",
    "\n",
    "    def write_to_file(self, filename, data):\n",
    "        with open(filename, 'w') as f:\n",
    "            for item in data:\n",
    "                f.write(\"%s\\n\" % item)\n",
    "\n",
    "\n",
    "with open('corpus.txt', 'r') as f:\n",
    "    data = f.read().splitlines()\n",
    "\n",
    "\n",
    "tokenizer = Tokenizer()\n",
    "tokenizer.learn_vocablury(data, 100)\n",
    "\n",
    "\n",
    "tokenizer.write_to_file('tokens.txt', [token.replace(' </w>', '') for token in tokenizer.vocab.keys()])\n",
    "\n",
    "\n",
    "tokenizer.write_to_file('merge_rules.txt', [', '.join(map(str, rule)) for rule in tokenizer.merge_rules])\n",
    "\n",
    "\n",
    "test_samples = [\"this is an nlp course\", \"i love nlp\"]\n",
    "tokenized_samples = [tokenizer.tokenize(sample) for sample in test_samples]\n",
    "tokenizer.write_to_file('tokenized_samples.txt', [', '.join(tokens) for tokens in tokenized_samples])\n"
   ]
  },
  {
   "cell_type": "code",
   "execution_count": null,
   "metadata": {},
   "outputs": [],
   "source": []
  }
 ],
 "metadata": {
  "kernelspec": {
   "display_name": "base",
   "language": "python",
   "name": "python3"
  },
  "language_info": {
   "codemirror_mode": {
    "name": "ipython",
    "version": 3
   },
   "file_extension": ".py",
   "mimetype": "text/x-python",
   "name": "python",
   "nbconvert_exporter": "python",
   "pygments_lexer": "ipython3",
   "version": "3.10.9"
  }
 },
 "nbformat": 4,
 "nbformat_minor": 2
}
