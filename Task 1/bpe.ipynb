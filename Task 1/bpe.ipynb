{
 "cells": [
  {
   "cell_type": "code",
   "execution_count": 13,
   "metadata": {},
   "outputs": [],
   "source": [
    "\n",
    "\n",
    "import re\n"
   ]
  },
  {
   "cell_type": "code",
   "execution_count": 21,
   "metadata": {},
   "outputs": [],
   "source": [
    "import re\n",
    "import collections\n",
    "\n",
    "class Tokenizer:\n",
    "    def __init__(self):\n",
    "        self.vocab = {}\n",
    "        self.merge_rules = []\n",
    "\n",
    "    def get_stats(self):\n",
    "        pairs = collections.defaultdict(int)\n",
    "        for word, freq in self.vocab.items():\n",
    "            symbols = word.split()\n",
    "            for i in range(len(symbols)-1):\n",
    "                pairs[symbols[i], symbols[i+1]] += freq\n",
    "        return pairs\n",
    "\n",
    "    def merge_vocab(self, pair):\n",
    "        v_out = {}\n",
    "        bigram = re.escape(' '.join(pair))\n",
    "        p = re.compile(r'(?<!\\S)' + bigram + r'(?!\\S)')\n",
    "        for word in self.vocab:\n",
    "            w_out = p.sub(''.join(pair), word)\n",
    "            v_out[w_out] = self.vocab[word]\n",
    "        return v_out\n",
    "\n",
    "    def learn_vocabulary(self, corpus, num_merges):\n",
    "        vocab = {}\n",
    "        for word, freq in collections.Counter(corpus).items():\n",
    "            vocab[' '.join(word) + ' </w>'] = freq\n",
    "        self.vocab = vocab\n",
    "        for i in range(num_merges):\n",
    "            pairs = self.get_stats()\n",
    "            best = max(pairs, key=pairs.get)\n",
    "            self.vocab = self.merge_vocab(best)\n",
    "            self.merge_rules.append(best)\n",
    "\n",
    "    def tokenize(self, sample):\n",
    "        # Tokenize based on the learnt rules\n",
    "        for rule in self.merge_rules:\n",
    "            sample = sample.replace(' '.join(rule), ''.join(rule))\n",
    "        return sample.split()\n",
    "\n",
    "\n",
    "with open('corpus.txt', 'r') as f:\n",
    "    data = f.read().splitlines()\n",
    "\n",
    "tokenizer = Tokenizer()\n",
    "tokenizer.learn_vocabulary(data, 1000)\n",
    "\n",
    "\n",
    "with open('tokens.txt', 'w') as f:\n",
    "    for token in tokenizer.vocab.keys():\n",
    "        f.write(\"%s\\n\" % token.replace(' </w>', ''))\n",
    "\n",
    "\n",
    "with open('merge_rules.txt', 'w') as f:\n",
    "    for rule in tokenizer.merge_rules:\n",
    "        f.write(\", \".join(map(str, rule)) + \"\\n\")\n",
    "\n",
    "\n"
   ]
  },
  {
   "cell_type": "code",
   "execution_count": null,
   "metadata": {},
   "outputs": [],
   "source": [
    "test_samples_file = \"test_samples.txt\"\n",
    "\n",
    "with open(test_samples_file, 'r') as f:\n",
    "    test_samples = f.readlines()\n",
    "\n",
    "\n",
    "with open('tokenized_samples.txt', 'w') as f:\n",
    "    for sample in test_samples:\n",
    "        f.write(\"%s\\n\" % ' '.join(tokenizer.tokenize(sample)))"
   ]
  }
 ],
 "metadata": {
  "kernelspec": {
   "display_name": "base",
   "language": "python",
   "name": "python3"
  },
  "language_info": {
   "codemirror_mode": {
    "name": "ipython",
    "version": 3
   },
   "file_extension": ".py",
   "mimetype": "text/x-python",
   "name": "python",
   "nbconvert_exporter": "python",
   "pygments_lexer": "ipython3",
   "version": "3.10.9"
  }
 },
 "nbformat": 4,
 "nbformat_minor": 2
}
